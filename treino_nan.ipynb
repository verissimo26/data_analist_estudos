{
  "nbformat": 4,
  "nbformat_minor": 0,
  "metadata": {
    "colab": {
      "provenance": [],
      "authorship_tag": "ABX9TyPrvRKnjVOoFO9YlFrcn1g+",
      "include_colab_link": true
    },
    "kernelspec": {
      "name": "python3",
      "display_name": "Python 3"
    },
    "language_info": {
      "name": "python"
    }
  },
  "cells": [
    {
      "cell_type": "markdown",
      "metadata": {
        "id": "view-in-github",
        "colab_type": "text"
      },
      "source": [
        "<a href=\"https://colab.research.google.com/github/verissimo26/data_analist_estudos/blob/main/treino_nan.ipynb\" target=\"_parent\"><img src=\"https://colab.research.google.com/assets/colab-badge.svg\" alt=\"Open In Colab\"/></a>"
      ]
    },
    {
      "cell_type": "code",
      "execution_count": 3,
      "metadata": {
        "id": "KfSogc5tdcfZ"
      },
      "outputs": [],
      "source": [
        "import numpy as np\n",
        "import pandas as pd"
      ]
    },
    {
      "cell_type": "code",
      "source": [
        "df = pd.read_csv(\"/content/clientes.csv\")\n",
        "\n",
        "df[\"TotalGasto\"] = pd.to_numeric(df[\"TotalGasto\"], errors=\"coerce\")\n",
        "\n",
        "print (df.info())\n",
        "print (\"\\n\")\n",
        "print (df.isna().sum())\n"
      ],
      "metadata": {
        "id": "nv6qvmyneh9C"
      },
      "execution_count": null,
      "outputs": []
    },
    {
      "cell_type": "code",
      "source": [
        "valores_null = [\"?\", \"\", \"-\"]\n",
        "df = df.replace({\"?\": np.nan, \"\": np.nan, \"-\": np.nan})\n",
        "display(df)"
      ],
      "metadata": {
        "id": "1wrMVSv5fCZt"
      },
      "execution_count": null,
      "outputs": []
    },
    {
      "cell_type": "code",
      "source": [
        "#df.dropna \n",
        "#axis=1 DELETA A COLUNA axis = 0 DELETA APENAS A LINHA\n",
        "#how=\"all\" deleta todos os valores vazios, how=\"any\" deleta se tiver apenas um valor vazio\n",
        "\n",
        "df =df.dropna (how=\"any\", axis=0)\n",
        "print(df)"
      ],
      "metadata": {
        "id": "4SU1w_dKhDYF"
      },
      "execution_count": null,
      "outputs": []
    },
    {
      "cell_type": "code",
      "source": [
        "#preencher NaN com valor Fixo\n",
        "\n",
        "media =df [\"MesesComoCliente\"].mean()\n",
        "df[\"MesesComoCliente\"] = df [\"MesesComoCliente\"].fillna(media)  "
      ],
      "metadata": {
        "id": "xZOQ6k6RSSZo"
      },
      "execution_count": 64,
      "outputs": []
    },
    {
      "cell_type": "code",
      "source": [
        "#preencher NaN com valor anterior\n",
        "\n",
        "#df[\"MesesComoCliente\"] = df [\"MesesComoCliente\"].fillna(method=\"ffill\")\n",
        "\n",
        "#preencher NaN com string\n",
        "\n",
        "df[\"MesesComoCliente\"] = df [\"MesesComoCliente\"].fillna(\"valor faltando\")\n",
        "display(df)\n",
        "\n",
        "\n"
      ],
      "metadata": {
        "id": "EOim4bvlTlAq"
      },
      "execution_count": null,
      "outputs": []
    }
  ]
}